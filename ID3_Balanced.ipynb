{
 "cells": [
  {
   "cell_type": "code",
   "execution_count": 4,
   "id": "8020813d-2912-4197-8e30-d89a6de36ed9",
   "metadata": {},
   "outputs": [],
   "source": [
    "import pandas as pd\n",
    "import numpy as np\n",
    "from sklearn.model_selection import train_test_split\n",
    "from sklearn.preprocessing import StandardScaler, OneHotEncoder\n",
    "from sklearn.impute import SimpleImputer \n",
    "from sklearn.tree import DecisionTreeClassifier\n",
    "from sklearn.metrics import accuracy_score, classification_report, confusion_matrix\n",
    "from sklearn.utils import resample\n",
    "from imblearn.over_sampling import SMOTE\n"
   ]
  },
  {
   "cell_type": "code",
   "execution_count": 10,
   "id": "b4994f58-0af1-447c-8e2c-09e92bc81153",
   "metadata": {},
   "outputs": [
    {
     "name": "stdout",
     "output_type": "stream",
     "text": [
      "Accuracy: 0.96\n",
      "Classification Report:\n",
      "              precision    recall  f1-score   support\n",
      "\n",
      "           0       0.98      0.96      0.97     10053\n",
      "           1       0.92      0.97      0.94      4947\n",
      "\n",
      "    accuracy                           0.96     15000\n",
      "   macro avg       0.95      0.96      0.96     15000\n",
      "weighted avg       0.96      0.96      0.96     15000\n",
      "\n",
      "Confusion Matrix:\n",
      "[[9612  441]\n",
      " [ 154 4793]]\n"
     ]
    }
   ],
   "source": [
    "# Load data\n",
    "df = pd.read_csv('balanced_diabetes_dataset.csv')\n",
    "\n",
    "# Identify categorical and numerical columns\n",
    "categorical_cols = df.columns[df.nunique() <= 10].tolist()\n",
    "numerical_cols = df.columns[df.nunique() > 10].tolist()\n",
    "target_col = 'diabetes'\n",
    "if target_col in categorical_cols:\n",
    "    categorical_cols.remove(target_col)\n",
    "\n",
    "# Impute missing values\n",
    "imputer_num = SimpleImputer(strategy='mean')\n",
    "df[numerical_cols] = imputer_num.fit_transform(df[numerical_cols])\n",
    "\n",
    "imputer_cat = SimpleImputer(strategy='most_frequent')\n",
    "df[categorical_cols] = imputer_cat.fit_transform(df[categorical_cols])\n",
    "\n",
    "# Scale numerical columns\n",
    "scaler = StandardScaler()\n",
    "df[numerical_cols] = scaler.fit_transform(df[numerical_cols])\n",
    "\n",
    "# One-hot encode categorical columns\n",
    "encoder = OneHotEncoder(sparse_output=False, drop='first')\n",
    "encoded_cols = encoder.fit_transform(df[categorical_cols])\n",
    "encoded_col_names = encoder.get_feature_names_out(categorical_cols)\n",
    "df = df.drop(categorical_cols, axis=1)\n",
    "df[encoded_col_names] = encoded_cols\n",
    "\n",
    "# Prepare training and testing data\n",
    "X = df.drop(target_col, axis=1)\n",
    "y = df[target_col]\n",
    "X_train, X_test, y_train, y_test = train_test_split(X, y, test_size=0.2, random_state=42)\n",
    "\n",
    "# Balance the dataset by oversampling the minority class\n",
    "training_data = pd.concat([X_train, y_train], axis=1)\n",
    "majority = training_data[training_data.diabetes==0]\n",
    "minority = training_data[training_data.diabetes==1]\n",
    "minority_upsampled = resample(minority, replace=True, n_samples=len(majority), random_state=42)\n",
    "upsampled = pd.concat([majority, minority_upsampled])\n",
    "\n",
    "y_train = upsampled.diabetes\n",
    "X_train = upsampled.drop('diabetes', axis=1)\n",
    "\n",
    "# Train a decision tree classifier\n",
    "clf = DecisionTreeClassifier(criterion='entropy', random_state=42)\n",
    "clf.fit(X_train, y_train)\n",
    "y_pred = clf.predict(X_test)\n",
    "\n",
    "# Evaluate the model\n",
    "accuracy = accuracy_score(y_test, y_pred)\n",
    "print(f'Accuracy: {accuracy:.2f}')\n",
    "print('Classification Report:')\n",
    "print(classification_report(y_test, y_pred))\n",
    "print('Confusion Matrix:')\n",
    "print(confusion_matrix(y_test, y_pred))"
   ]
  },
  {
   "cell_type": "code",
   "execution_count": null,
   "id": "ed2f7ee0-406e-4c4e-9323-e1a816cb7d78",
   "metadata": {},
   "outputs": [],
   "source": []
  }
 ],
 "metadata": {
  "kernelspec": {
   "display_name": "Python 3 (ipykernel)",
   "language": "python",
   "name": "python3"
  },
  "language_info": {
   "codemirror_mode": {
    "name": "ipython",
    "version": 3
   },
   "file_extension": ".py",
   "mimetype": "text/x-python",
   "name": "python",
   "nbconvert_exporter": "python",
   "pygments_lexer": "ipython3",
   "version": "3.11.7"
  }
 },
 "nbformat": 4,
 "nbformat_minor": 5
}
