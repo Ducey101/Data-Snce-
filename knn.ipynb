{
 "cells": [
  {
   "cell_type": "code",
   "execution_count": 1,
   "id": "779f4d22",
   "metadata": {},
   "outputs": [],
   "source": [
    "import pandas as pd\n",
    "from sklearn.model_selection import train_test_split\n",
    "from sklearn.preprocessing import StandardScaler, MinMaxScaler, OneHotEncoder\n",
    "from sklearn.impute import SimpleImputer\n",
    "from sklearn.decomposition import PCA\n",
    "import pandas as pd\n",
    "import numpy as np"
   ]
  },
  {
   "cell_type": "code",
   "execution_count": 2,
   "id": "0581c61f",
   "metadata": {},
   "outputs": [
    {
     "name": "stdout",
     "output_type": "stream",
     "text": [
      "       gender   age  hypertension  heart_disease smoking_history    bmi  \\\n",
      "0      Female  80.0             0              1           never  25.19   \n",
      "1      Female  54.0             0              0         No Info  27.32   \n",
      "2        Male  28.0             0              0           never  27.32   \n",
      "3      Female  36.0             0              0         current  23.45   \n",
      "4        Male  76.0             1              1         current  20.14   \n",
      "...       ...   ...           ...            ...             ...    ...   \n",
      "99995  Female  80.0             0              0         No Info  27.32   \n",
      "99996  Female   2.0             0              0         No Info  17.37   \n",
      "99997    Male  66.0             0              0          former  27.83   \n",
      "99998  Female  24.0             0              0           never  35.42   \n",
      "99999  Female  57.0             0              0         current  22.43   \n",
      "\n",
      "       HbA1c_level  blood_glucose_level  diabetes  \n",
      "0              6.6                  140         0  \n",
      "1              6.6                   80         0  \n",
      "2              5.7                  158         0  \n",
      "3              5.0                  155         0  \n",
      "4              4.8                  155         0  \n",
      "...            ...                  ...       ...  \n",
      "99995          6.2                   90         0  \n",
      "99996          6.5                  100         0  \n",
      "99997          5.7                  155         0  \n",
      "99998          4.0                  100         0  \n",
      "99999          6.6                   90         0  \n",
      "\n",
      "[100000 rows x 9 columns]\n"
     ]
    }
   ],
   "source": [
    "df = pd.read_csv('diabetes_prediction_dataset.csv')\n",
    "print(df)"
   ]
  },
  {
   "cell_type": "code",
   "execution_count": 3,
   "id": "19efe6d9",
   "metadata": {},
   "outputs": [],
   "source": [
    "# Define categorical and numerical columns\n",
    "# Identify categorical and numerical columns\n",
    "categorical_cols = df.columns[df.nunique() <= 10].tolist()  # Ensure this is a list\n",
    "numerical_cols = df.columns[df.nunique() > 10].tolist()\n",
    "target_col = 'diabetes'\n",
    "if target_col in categorical_cols:\n",
    "    categorical_cols.remove(target_col)"
   ]
  },
  {
   "cell_type": "code",
   "execution_count": 4,
   "id": "7c3cf3bb",
   "metadata": {},
   "outputs": [],
   "source": [
    "# Impute missing values for numerical data\n",
    "imputer_num = SimpleImputer(strategy='mean')\n",
    "df[numerical_cols] = imputer_num.fit_transform(df[numerical_cols])"
   ]
  },
  {
   "cell_type": "code",
   "execution_count": 5,
   "id": "313ef1fc",
   "metadata": {},
   "outputs": [],
   "source": [
    "# Impute missing values for categorical data\n",
    "imputer_cat = SimpleImputer(strategy='most_frequent')\n",
    "df[categorical_cols] = imputer_cat.fit_transform(df[categorical_cols])"
   ]
  },
  {
   "cell_type": "code",
   "execution_count": 6,
   "id": "92fdedd4",
   "metadata": {},
   "outputs": [],
   "source": [
    "# Scale numerical columns using Z-score normalization\n",
    "scaler = StandardScaler()\n",
    "df[numerical_cols] = scaler.fit_transform(df[numerical_cols])"
   ]
  },
  {
   "cell_type": "code",
   "execution_count": 7,
   "id": "d87155a8",
   "metadata": {},
   "outputs": [],
   "source": [
    "# One-hot encode categorical columns, using drop='first' to avoid the dummy variable trap\n",
    "encoder = OneHotEncoder(sparse=False, drop='first')\n",
    "encoded_cols = encoder.fit_transform(df[categorical_cols])\n",
    "# Check the scikit-learn version and use the appropriate method to get feature names\n",
    "encoded_col_names = encoder.get_feature_names(categorical_cols)\n",
    "df = df.drop(categorical_cols, axis=1)  # Drop original categorical columns\n",
    "df[encoded_col_names] = encoded_cols  # Add encoded columns"
   ]
  },
  {
   "cell_type": "code",
   "execution_count": 8,
   "id": "ffd24f42",
   "metadata": {},
   "outputs": [
    {
     "name": "stdout",
     "output_type": "stream",
     "text": [
      "        age       bmi  HbA1c_level  blood_glucose_level  diabetes  \\\n",
      "0  1.692704 -0.321056     1.001706             0.047704         0   \n",
      "1  0.538006 -0.000116     1.001706            -1.426210         0   \n",
      "2 -0.616691 -0.000116     0.161108             0.489878         0   \n",
      "3 -0.261399 -0.583232    -0.492690             0.416183         0   \n",
      "4  1.515058 -1.081970    -0.679490             0.416183         0   \n",
      "\n",
      "   gender_Male  gender_Other  hypertension_1  heart_disease_1  \\\n",
      "0          0.0           0.0             0.0              1.0   \n",
      "1          0.0           0.0             0.0              0.0   \n",
      "2          1.0           0.0             0.0              0.0   \n",
      "3          0.0           0.0             0.0              0.0   \n",
      "4          1.0           0.0             1.0              1.0   \n",
      "\n",
      "   smoking_history_current  smoking_history_ever  smoking_history_former  \\\n",
      "0                      0.0                   0.0                     0.0   \n",
      "1                      0.0                   0.0                     0.0   \n",
      "2                      0.0                   0.0                     0.0   \n",
      "3                      1.0                   0.0                     0.0   \n",
      "4                      1.0                   0.0                     0.0   \n",
      "\n",
      "   smoking_history_never  smoking_history_not current  \n",
      "0                    1.0                          0.0  \n",
      "1                    0.0                          0.0  \n",
      "2                    1.0                          0.0  \n",
      "3                    0.0                          0.0  \n",
      "4                    0.0                          0.0  \n"
     ]
    }
   ],
   "source": [
    "print(df.head())\n",
    "X = df.drop(target_col, axis=1)\n",
    "y = df[target_col]\n",
    "X_train, X_test, y_train, y_test = train_test_split(X, y, test_size=0.2, random_state=42)"
   ]
  },
  {
   "cell_type": "code",
   "execution_count": 33,
   "id": "d5e763c1",
   "metadata": {},
   "outputs": [
    {
     "data": {
      "text/plain": [
       "KNeighborsClassifier(n_neighbors=6)"
      ]
     },
     "execution_count": 33,
     "metadata": {},
     "output_type": "execute_result"
    }
   ],
   "source": [
    "from sklearn.neighbors import KNeighborsClassifier\n",
    "model = KNeighborsClassifier(n_neighbors=6)\n",
    "model.fit(X_train, y_train)\n"
   ]
  },
  {
   "cell_type": "code",
   "execution_count": 34,
   "id": "44d826c7",
   "metadata": {},
   "outputs": [],
   "source": [
    "from sklearn.metrics import accuracy_score, precision_score, recall_score, f1_score, confusion_matrix\n",
    "y_pred = model.predict(X_test)\n",
    "accuracy = accuracy_score(y_test, y_pred)\n",
    "precision = precision_score(y_test, y_pred, average='binary')  # Change average method if not a binary classification\n",
    "recall = recall_score(y_test, y_pred, average='binary')  # Change average method if not a binary classification\n",
    "f1 = f1_score(y_test, y_pred, average='binary')"
   ]
  },
  {
   "cell_type": "code",
   "execution_count": 35,
   "id": "540df23f",
   "metadata": {},
   "outputs": [
    {
     "name": "stdout",
     "output_type": "stream",
     "text": [
      "Accuracy: 0.9607\n",
      "Precision: 0.9528487229862476\n",
      "Recall: 0.5679156908665105\n",
      "F1 Score: 0.7116654438738077\n"
     ]
    }
   ],
   "source": [
    "print(\"Accuracy:\", accuracy)\n",
    "print(\"Precision:\", precision)\n",
    "print(\"Recall:\", recall)\n",
    "print(\"F1 Score:\", f1)"
   ]
  },
  {
   "cell_type": "code",
   "execution_count": null,
   "id": "7cfbfcbf",
   "metadata": {},
   "outputs": [],
   "source": []
  }
 ],
 "metadata": {
  "kernelspec": {
   "display_name": "Python 3 (ipykernel)",
   "language": "python",
   "name": "python3"
  },
  "language_info": {
   "codemirror_mode": {
    "name": "ipython",
    "version": 3
   },
   "file_extension": ".py",
   "mimetype": "text/x-python",
   "name": "python",
   "nbconvert_exporter": "python",
   "pygments_lexer": "ipython3",
   "version": "3.9.7"
  }
 },
 "nbformat": 4,
 "nbformat_minor": 5
}
