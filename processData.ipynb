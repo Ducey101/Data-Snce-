{
 "cells": [
  {
   "cell_type": "code",
   "execution_count": 1,
   "id": "514e640f-c5e0-4371-9a24-fade5d42cd95",
   "metadata": {},
   "outputs": [
    {
     "name": "stdout",
     "output_type": "stream",
     "text": [
      "        age  hypertension  heart_disease       bmi  HbA1c_level  \\\n",
      "0  1.000000             0              1  0.177171     0.563636   \n",
      "1  0.674675             0              0  0.202031     0.563636   \n",
      "2  0.349349             0              0  0.202031     0.400000   \n",
      "3  0.449449             0              0  0.156863     0.272727   \n",
      "4  0.949950             1              1  0.118231     0.236364   \n",
      "\n",
      "   blood_glucose_level  diabetes  gender_Female  gender_Male  gender_Other  \\\n",
      "0             0.272727         0            1.0          0.0           0.0   \n",
      "1             0.000000         0            1.0          0.0           0.0   \n",
      "2             0.354545         0            0.0          1.0           0.0   \n",
      "3             0.340909         0            1.0          0.0           0.0   \n",
      "4             0.340909         0            0.0          1.0           0.0   \n",
      "\n",
      "   smoking_history_No Info  smoking_history_current  smoking_history_ever  \\\n",
      "0                      0.0                      0.0                   0.0   \n",
      "1                      1.0                      0.0                   0.0   \n",
      "2                      0.0                      0.0                   0.0   \n",
      "3                      0.0                      1.0                   0.0   \n",
      "4                      0.0                      1.0                   0.0   \n",
      "\n",
      "   smoking_history_former  smoking_history_never  smoking_history_not current  \n",
      "0                     0.0                    1.0                          0.0  \n",
      "1                     0.0                    0.0                          0.0  \n",
      "2                     0.0                    1.0                          0.0  \n",
      "3                     0.0                    0.0                          0.0  \n",
      "4                     0.0                    0.0                          0.0  \n"
     ]
    },
    {
     "name": "stderr",
     "output_type": "stream",
     "text": [
      "/opt/anaconda3/lib/python3.11/site-packages/sklearn/preprocessing/_encoders.py:868: FutureWarning: `sparse` was renamed to `sparse_output` in version 1.2 and will be removed in 1.4. `sparse_output` is ignored unless you leave `sparse` to its default value.\n",
      "  warnings.warn(\n"
     ]
    }
   ],
   "source": [
    "import pandas as pd\n",
    "from sklearn.preprocessing import MinMaxScaler, OneHotEncoder\n",
    "\n",
    "\n",
    "data = pd.read_csv('diabetes_prediction_dataset.csv')\n",
    "\n",
    "# Selecting numeric and categorical columns for processing\n",
    "numeric_columns = ['age', 'bmi', 'HbA1c_level', 'blood_glucose_level']\n",
    "categorical_columns = ['gender', 'smoking_history']\n",
    "\n",
    "# Normalize numeric columns using Min-Max scaling\n",
    "scaler = MinMaxScaler()\n",
    "data[numeric_columns] = scaler.fit_transform(data[numeric_columns])\n",
    "\n",
    "# One-hot encode categorical columns\n",
    "encoder = OneHotEncoder(sparse=False)\n",
    "encoded_categorical_data = encoder.fit_transform(data[categorical_columns])\n",
    "encoded_categories = encoder.get_feature_names_out(categorical_columns)\n",
    "encoded_df = pd.DataFrame(encoded_categorical_data, columns=encoded_categories)\n",
    "\n",
    "# Combine the processed columns with the original dataframe, excluding original categorical columns\n",
    "processed_data = pd.concat([data.drop(categorical_columns, axis=1), encoded_df], axis=1)\n",
    "\n",
    "# Display the first few rows of the processed data\n",
    "print(processed_data.head())\n"
   ]
  },
  {
   "cell_type": "code",
   "execution_count": null,
   "id": "d93e82c6-ad32-4d72-af3a-9615cf4b4a83",
   "metadata": {},
   "outputs": [],
   "source": []
  }
 ],
 "metadata": {
  "kernelspec": {
   "display_name": "Python 3 (ipykernel)",
   "language": "python",
   "name": "python3"
  },
  "language_info": {
   "codemirror_mode": {
    "name": "ipython",
    "version": 3
   },
   "file_extension": ".py",
   "mimetype": "text/x-python",
   "name": "python",
   "nbconvert_exporter": "python",
   "pygments_lexer": "ipython3",
   "version": "3.11.7"
  }
 },
 "nbformat": 4,
 "nbformat_minor": 5
}
