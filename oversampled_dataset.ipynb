{
 "cells": [
  {
   "cell_type": "code",
   "execution_count": 1,
   "id": "510b1015-1780-4e6c-8600-7c068dd3252c",
   "metadata": {},
   "outputs": [
    {
     "name": "stdout",
     "output_type": "stream",
     "text": [
      "diabetes\n",
      "0    50000\n",
      "1    25000\n",
      "Name: count, dtype: int64\n"
     ]
    }
   ],
   "source": [
    "import pandas as pd\n",
    "from sklearn.utils import resample\n",
    "\n",
    "# Load your dataset\n",
    "df = pd.read_csv('diabetes_prediction_dataset.csv')\n",
    "\n",
    "# Separate the majority and minority classes\n",
    "df_majority = df[df.diabetes == 0]\n",
    "df_minority = df[df.diabetes == 1]\n",
    "\n",
    "# Oversample the minority class\n",
    "df_minority_oversampled = resample(df_minority, \n",
    "                                   replace=True,     # sample with replacement\n",
    "                                   n_samples=25000,  # to match the desired minority size\n",
    "                                   random_state=123) # reproducible results\n",
    "\n",
    "# Combine the oversampled minority class with the original majority class before undersampling\n",
    "df_combined = pd.concat([df_majority, df_minority_oversampled])\n",
    "\n",
    "# Undersample the majority class\n",
    "df_majority_undersampled = resample(df_combined[df_combined.diabetes == 0], \n",
    "                                    replace=False,    # sample without replacement\n",
    "                                    n_samples=50000,  # to match the new majority size\n",
    "                                    random_state=123) # reproducible results\n",
    "\n",
    "# Combine the undersampled majority class with the oversampled minority class\n",
    "df_balanced = pd.concat([df_majority_undersampled, df_minority_oversampled])\n",
    "\n",
    "# Check the new distribution of the target variable\n",
    "print(df_balanced['diabetes'].value_counts())\n",
    "\n",
    "# Save the balanced dataset if needed\n",
    "df_balanced.to_csv('balanced_diabetes_dataset.csv', index=False)\n"
   ]
  },
  {
   "cell_type": "code",
   "execution_count": null,
   "id": "c7f2e66f-ab9a-4279-be9d-1ab07757c20a",
   "metadata": {},
   "outputs": [],
   "source": []
  }
 ],
 "metadata": {
  "kernelspec": {
   "display_name": "Python 3 (ipykernel)",
   "language": "python",
   "name": "python3"
  },
  "language_info": {
   "codemirror_mode": {
    "name": "ipython",
    "version": 3
   },
   "file_extension": ".py",
   "mimetype": "text/x-python",
   "name": "python",
   "nbconvert_exporter": "python",
   "pygments_lexer": "ipython3",
   "version": "3.11.7"
  }
 },
 "nbformat": 4,
 "nbformat_minor": 5
}
